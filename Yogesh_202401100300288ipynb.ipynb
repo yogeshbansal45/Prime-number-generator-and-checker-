{
  "nbformat": 4,
  "nbformat_minor": 0,
  "metadata": {
    "colab": {
      "provenance": []
    },
    "kernelspec": {
      "name": "python3",
      "display_name": "Python 3"
    },
    "language_info": {
      "name": "python"
    }
  },
  "cells": [
    {
      "cell_type": "code",
      "execution_count": 2,
      "metadata": {
        "colab": {
          "base_uri": "https://localhost:8080/"
        },
        "id": "JGjBCNsUjVzt",
        "outputId": "297b44e2-ad24-4063-a952-dc65f7bce091"
      },
      "outputs": [
        {
          "output_type": "stream",
          "name": "stdout",
          "text": [
            "Enter the limit to generate prime numbers: 60\n",
            "Prime numbers up to 60 : [2, 3, 5, 7, 11, 13, 17, 19, 23, 29, 31, 37, 41, 43, 47, 53, 59]\n",
            "Enter a number to check if it's prime: 33\n",
            "33 is not a prime number.\n"
          ]
        }
      ],
      "source": [
        "import math\n",
        "\n",
        "def is_prime(n):\n",
        "    if n < 2:\n",
        "        return False\n",
        "    for i in range(2, int(math.sqrt(n)) + 1):\n",
        "        if n % i == 0:\n",
        "            return False\n",
        "    return True\n",
        "\n",
        "def generate_primes(limit):\n",
        "    primes = []\n",
        "    for num in range(2, limit + 1):\n",
        "        if is_prime(num):\n",
        "            primes.append(num)\n",
        "    return primes\n",
        "\n",
        "if __name__ == \"__main__\":\n",
        "    limit = int(input(\"Enter the limit to generate prime numbers: \"))\n",
        "    print(\"Prime numbers up to\", limit, \":\", generate_primes(limit))\n",
        "\n",
        "    number = int(input(\"Enter a number to check if it's prime: \"))\n",
        "    if is_prime(number):\n",
        "        print(number, \"is a prime number.\")\n",
        "    else:\n",
        "        print(number, \"is not a prime number.\")"
      ]
    }
  ]
}